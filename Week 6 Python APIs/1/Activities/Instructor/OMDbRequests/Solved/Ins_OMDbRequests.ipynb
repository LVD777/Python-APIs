{
 "cells": [
  {
   "cell_type": "code",
   "execution_count": 1,
   "metadata": {},
   "outputs": [],
   "source": [
    "import requests\n",
    "import json"
   ]
  },
  {
   "cell_type": "code",
   "execution_count": 2,
   "metadata": {},
   "outputs": [],
   "source": [
    "# New Dependency! Use this to pretty print the JSON\n",
    "# https://docs.python.org/3/library/pprint.html\n",
    "from pprint import pprint"
   ]
  },
  {
   "cell_type": "code",
   "execution_count": 3,
   "metadata": {},
   "outputs": [],
   "source": [
    "# Note that the ?t= is a query param for the t-itle of the\n",
    "# movie we want to search for.\n",
    "url = \"http://www.omdbapi.com/?t=\"\n",
    "api_key = \"&apikey=trilogy\""
   ]
  },
  {
   "cell_type": "code",
   "execution_count": 4,
   "metadata": {},
   "outputs": [
    {
     "name": "stdout",
     "output_type": "stream",
     "text": [
      "http://www.omdbapi.com/?t=Tron&apikey=trilogy\n"
     ]
    }
   ],
   "source": [
    "# Performing a GET request similar to the one we executed\n",
    "# earlier\n",
    "response = requests.get(url + \"Tron\" + api_key)\n",
    "print(response.url)"
   ]
  },
  {
   "cell_type": "code",
   "execution_count": 5,
   "metadata": {},
   "outputs": [
    {
     "name": "stdout",
     "output_type": "stream",
     "text": [
      "{'Actors': 'Jeff Bridges, Bruce Boxleitner, David Warner, Cindy Morgan',\n",
      " 'Awards': 'Nominated for 2 Oscars. Another 2 wins & 6 nominations.',\n",
      " 'BoxOffice': 'N/A',\n",
      " 'Country': 'USA',\n",
      " 'DVD': '15 Jan 2002',\n",
      " 'Director': 'Steven Lisberger',\n",
      " 'Genre': 'Action, Adventure, Sci-Fi',\n",
      " 'Language': 'English',\n",
      " 'Metascore': '58',\n",
      " 'Plot': 'A computer hacker is abducted into the digital world and forced to '\n",
      "         'participate in gladiatorial games where his only chance of escape is '\n",
      "         'with the help of a heroic security program.',\n",
      " 'Poster': 'https://ia.media-imdb.com/images/M/MV5BMzZhNjYyZDYtZmE4MC00M2RlLTlhOGItZDVkYTVlZTYxOWZlXkEyXkFqcGdeQXVyNTAyODkwOQ@@._V1_SX300.jpg',\n",
      " 'Production': 'Buena Vista Pictures',\n",
      " 'Rated': 'PG',\n",
      " 'Ratings': [{'Source': 'Internet Movie Database', 'Value': '6.8/10'},\n",
      "             {'Source': 'Rotten Tomatoes', 'Value': '70%'},\n",
      "             {'Source': 'Metacritic', 'Value': '58/100'}],\n",
      " 'Released': '09 Jul 1982',\n",
      " 'Response': 'True',\n",
      " 'Runtime': '96 min',\n",
      " 'Title': 'TRON',\n",
      " 'Type': 'movie',\n",
      " 'Website': 'N/A',\n",
      " 'Writer': 'Steven Lisberger (screenplay), Steven Lisberger (story), Bonnie '\n",
      "           'MacBird (story)',\n",
      " 'Year': '1982',\n",
      " 'imdbID': 'tt0084827',\n",
      " 'imdbRating': '6.8',\n",
      " 'imdbVotes': '101,990'}\n"
     ]
    }
   ],
   "source": [
    "# Converting the response to JSON, and printing the result.\n",
    "data = response.json()\n",
    "pprint(data)"
   ]
  },
  {
   "cell_type": "code",
   "execution_count": 6,
   "metadata": {},
   "outputs": [
    {
     "name": "stdout",
     "output_type": "stream",
     "text": [
      "Movie was directed by Steven Lisberger.\n",
      "Movie was released in USA.\n"
     ]
    }
   ],
   "source": [
    "# Print a few keys from the response JSON.\n",
    "print(f\"Movie was directed by {data['Director']}.\")\n",
    "print(f\"Movie was released in {data['Country']}.\")"
   ]
  },
  {
   "cell_type": "code",
   "execution_count": null,
   "metadata": {},
   "outputs": [],
   "source": []
  },
  {
   "cell_type": "code",
   "execution_count": null,
   "metadata": {},
   "outputs": [],
   "source": []
  }
 ],
 "metadata": {
  "kernelspec": {
   "display_name": "Python 3",
   "language": "python",
   "name": "python3"
  },
  "language_info": {
   "codemirror_mode": {
    "name": "ipython",
    "version": 3
   },
   "file_extension": ".py",
   "mimetype": "text/x-python",
   "name": "python",
   "nbconvert_exporter": "python",
   "pygments_lexer": "ipython3",
   "version": "3.6.5"
  },
  "varInspector": {
   "cols": {
    "lenName": 16,
    "lenType": 16,
    "lenVar": 40
   },
   "kernels_config": {
    "python": {
     "delete_cmd_postfix": "",
     "delete_cmd_prefix": "del ",
     "library": "var_list.py",
     "varRefreshCmd": "print(var_dic_list())"
    },
    "r": {
     "delete_cmd_postfix": ") ",
     "delete_cmd_prefix": "rm(",
     "library": "var_list.r",
     "varRefreshCmd": "cat(var_dic_list()) "
    }
   },
   "types_to_exclude": [
    "module",
    "function",
    "builtin_function_or_method",
    "instance",
    "_Feature"
   ],
   "window_display": false
  }
 },
 "nbformat": 4,
 "nbformat_minor": 2
}
