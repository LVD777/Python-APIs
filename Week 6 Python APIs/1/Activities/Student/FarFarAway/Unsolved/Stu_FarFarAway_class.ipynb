{
 "cells": [
  {
   "cell_type": "code",
   "execution_count": 1,
   "metadata": {},
   "outputs": [],
   "source": [
    "# Dependencies\n",
    "import requests\n",
    "import json"
   ]
  },
  {
   "cell_type": "code",
   "execution_count": 2,
   "metadata": {},
   "outputs": [],
   "source": [
    "# URL for GET requests to retrieve Star Wars character data\n",
    "base_url = \"https://swapi.co/api/people/\""
   ]
  },
  {
   "cell_type": "code",
   "execution_count": 3,
   "metadata": {},
   "outputs": [
    {
     "name": "stdout",
     "output_type": "stream",
     "text": [
      "https://swapi.co/api/people/4\n"
     ]
    }
   ],
   "source": [
    "# Create a url with a specific character id\n",
    "character_id = '4'\n",
    "url = base_url + character_id\n",
    "print(url)"
   ]
  },
  {
   "cell_type": "code",
   "execution_count": 4,
   "metadata": {},
   "outputs": [
    {
     "name": "stdout",
     "output_type": "stream",
     "text": [
      "https://swapi.co/api/people/4/\n"
     ]
    }
   ],
   "source": [
    "# Perform a get request for this character\n",
    "response = requests.get(url)\n",
    "print(response.url)"
   ]
  },
  {
   "cell_type": "code",
   "execution_count": 5,
   "metadata": {},
   "outputs": [],
   "source": [
    "# Storing the JSON response within a variable\n",
    "data = response.json()"
   ]
  },
  {
   "cell_type": "code",
   "execution_count": 6,
   "metadata": {},
   "outputs": [
    {
     "data": {
      "text/plain": [
       "'Darth Vader'"
      ]
     },
     "execution_count": 6,
     "metadata": {},
     "output_type": "execute_result"
    }
   ],
   "source": [
    "# Collecting the name of the character collected\n",
    "character_name = data[\"name\"]\n",
    "character_name"
   ]
  },
  {
   "cell_type": "code",
   "execution_count": 7,
   "metadata": {},
   "outputs": [
    {
     "data": {
      "text/plain": [
       "4"
      ]
     },
     "execution_count": 7,
     "metadata": {},
     "output_type": "execute_result"
    }
   ],
   "source": [
    "# Print the character and the number of films that they were in\n",
    "films = len(data[\"films\"])\n",
    "films"
   ]
  },
  {
   "cell_type": "code",
   "execution_count": 20,
   "metadata": {},
   "outputs": [
    {
     "data": {
      "text/plain": [
       "{'name': 'TIE Advanced x1',\n",
       " 'model': 'Twin Ion Engine Advanced x1',\n",
       " 'manufacturer': 'Sienar Fleet Systems',\n",
       " 'cost_in_credits': 'unknown',\n",
       " 'length': '9.2',\n",
       " 'max_atmosphering_speed': '1200',\n",
       " 'crew': '1',\n",
       " 'passengers': '0',\n",
       " 'cargo_capacity': '150',\n",
       " 'consumables': '5 days',\n",
       " 'hyperdrive_rating': '1.0',\n",
       " 'MGLT': '105',\n",
       " 'starship_class': 'Starfighter',\n",
       " 'pilots': ['https://swapi.co/api/people/4/'],\n",
       " 'films': ['https://swapi.co/api/films/1/'],\n",
       " 'created': '2014-12-12T11:21:32.991000Z',\n",
       " 'edited': '2014-12-22T17:35:44.549047Z',\n",
       " 'url': 'https://swapi.co/api/starships/13/'}"
      ]
     },
     "execution_count": 20,
     "metadata": {},
     "output_type": "execute_result"
    }
   ],
   "source": [
    "# Figure out what their first starship was named and print the ship\n",
    "first_starship = data[\"starships\"][0]\n",
    "\n",
    "ship_res = requests.get(first_starship).json()\n",
    "first_starship\n",
    "ship_res\n",
    "\n"
   ]
  },
  {
   "cell_type": "code",
   "execution_count": 21,
   "metadata": {},
   "outputs": [
    {
     "data": {
      "text/plain": [
       "'TIE Advanced x1'"
      ]
     },
     "execution_count": 21,
     "metadata": {},
     "output_type": "execute_result"
    }
   ],
   "source": [
    "first_ship = ship_res[\"name\"]\n",
    "first_ship"
   ]
  },
  {
   "cell_type": "code",
   "execution_count": 15,
   "metadata": {},
   "outputs": [
    {
     "name": "stdout",
     "output_type": "stream",
     "text": [
      "Darth Vader was in 4 films\n"
     ]
    }
   ],
   "source": [
    "# Print character name and how many films they were in\n",
    "print(f\"{character_name} was in {films} films\")"
   ]
  },
  {
   "cell_type": "code",
   "execution_count": 16,
   "metadata": {},
   "outputs": [
    {
     "name": "stdout",
     "output_type": "stream",
     "text": [
      "Their first ship: TIE Advanced x1\n"
     ]
    }
   ],
   "source": [
    "# Print what their first ship was\n",
    "print(f\"Their first ship: {first_ship}\")"
   ]
  },
  {
   "cell_type": "code",
   "execution_count": 17,
   "metadata": {},
   "outputs": [
    {
     "name": "stdout",
     "output_type": "stream",
     "text": [
      "Darth Vader was in:\n",
      "['The Empire Strikes Back', 'Revenge of the Sith', 'Return of the Jedi', 'A New Hope']\n"
     ]
    }
   ],
   "source": [
    "films = []\n",
    "\n",
    "for film in data['films']:\n",
    "    cur_film = requests.get(film).json()\n",
    "    film_title = cur_film[\"title\"]\n",
    "    films.append(film_title)\n",
    "    \n",
    "print(f\"{character_name} was in:\")\n",
    "print(films)"
   ]
  },
  {
   "cell_type": "code",
   "execution_count": null,
   "metadata": {},
   "outputs": [],
   "source": []
  }
 ],
 "metadata": {
  "kernelspec": {
   "display_name": "Python 3",
   "language": "python",
   "name": "python3"
  },
  "language_info": {
   "codemirror_mode": {
    "name": "ipython",
    "version": 3
   },
   "file_extension": ".py",
   "mimetype": "text/x-python",
   "name": "python",
   "nbconvert_exporter": "python",
   "pygments_lexer": "ipython3",
   "version": "3.6.5"
  },
  "varInspector": {
   "cols": {
    "lenName": 16,
    "lenType": 16,
    "lenVar": 40
   },
   "kernels_config": {
    "python": {
     "delete_cmd_postfix": "",
     "delete_cmd_prefix": "del ",
     "library": "var_list.py",
     "varRefreshCmd": "print(var_dic_list())"
    },
    "r": {
     "delete_cmd_postfix": ") ",
     "delete_cmd_prefix": "rm(",
     "library": "var_list.r",
     "varRefreshCmd": "cat(var_dic_list()) "
    }
   },
   "types_to_exclude": [
    "module",
    "function",
    "builtin_function_or_method",
    "instance",
    "_Feature"
   ],
   "window_display": false
  }
 },
 "nbformat": 4,
 "nbformat_minor": 2
}
